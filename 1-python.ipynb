{
 "cells": [
  {
   "cell_type": "markdown",
   "metadata": {},
   "source": [
    "# Python basics\n",
    "\n",
    "[Note: <span style='color:red'> We will be teaching using Python 3. </span>\n",
    "Be aware that many Python packages and installations use legacy Python 2, but moving forward it makes sense to use Python 3 unless you have a good reason to do otherwise.]\n",
    "\n",
    "This is a Jupyter notebook.\n",
    "To evaluate a cell, press Shift-Enter or Ctrl-Enter. Shift-Enter moves you onto the next cell. \n",
    "The cells in this tutorial depend on each other, so evaluate them in order.\n",
    "Take a minute to poke around the menus, looking at the keyboard shortcuts if that's your kind of thing.\n",
    "\n",
    "To open up a new cell below your current cell, click on the `+` button.\n",
    "\n",
    "When you evaluate a cell, the result of the last operation is printed out."
   ]
  },
  {
   "cell_type": "code",
   "execution_count": null,
   "metadata": {
    "collapsed": false
   },
   "outputs": [],
   "source": [
    "2+5"
   ]
  },
  {
   "cell_type": "code",
   "execution_count": null,
   "metadata": {
    "collapsed": false
   },
   "outputs": [],
   "source": [
    "2+5\n",
    "10+100"
   ]
  },
  {
   "cell_type": "code",
   "execution_count": null,
   "metadata": {
    "collapsed": false
   },
   "outputs": [],
   "source": [
    "what = 'this is a string'\n",
    "what"
   ]
  },
  {
   "cell_type": "markdown",
   "metadata": {
    "collapsed": true
   },
   "source": [
    "## Syntax\n",
    "\n",
    "### Lists\n",
    "\n",
    "You can put various things in a list.\n",
    "Note that lists are zero-indexed, meaning that `l[0]` gives you the first element in a list."
   ]
  },
  {
   "cell_type": "code",
   "execution_count": null,
   "metadata": {
    "collapsed": false
   },
   "outputs": [],
   "source": [
    "l = ['first', 'second']\n",
    "l[1]"
   ]
  },
  {
   "cell_type": "markdown",
   "metadata": {},
   "source": [
    "You can add lists to concatenate them:"
   ]
  },
  {
   "cell_type": "code",
   "execution_count": null,
   "metadata": {
    "collapsed": false
   },
   "outputs": [],
   "source": [
    "l + l"
   ]
  },
  {
   "cell_type": "markdown",
   "metadata": {},
   "source": [
    "* Can you put numbers and strings together in the same list?"
   ]
  },
  {
   "cell_type": "markdown",
   "metadata": {},
   "source": [
    "### Functions, control flow, and loops\n",
    "Here's how to call a function called `range`:"
   ]
  },
  {
   "cell_type": "code",
   "execution_count": null,
   "metadata": {
    "collapsed": false
   },
   "outputs": [],
   "source": [
    "range(4)"
   ]
  },
  {
   "cell_type": "markdown",
   "metadata": {},
   "source": [
    "To define a function, use the `def` keyword, end the declaration with a colon, and then indent each following line of the function with four spaces."
   ]
  },
  {
   "cell_type": "code",
   "execution_count": null,
   "metadata": {
    "collapsed": false
   },
   "outputs": [],
   "source": [
    "def square(n):\n",
    "    # Here we are in the function, and every line with this same indentation level is in the function.\n",
    "    ans = n * n\n",
    "    return ans\n",
    "\n",
    "# Now that we have left that indentation level, we are out of the function.\n",
    "square(4)"
   ]
  },
  {
   "cell_type": "markdown",
   "metadata": {},
   "source": [
    "* What happens if you use varying numbers of spaces as indentation in a function definition?\n",
    "* Write a function `cube` that cubes a number."
   ]
  },
  {
   "cell_type": "markdown",
   "metadata": {},
   "source": [
    "If statements follow a similar syntax, with the statement to be tested and then a colon."
   ]
  },
  {
   "cell_type": "code",
   "execution_count": null,
   "metadata": {
    "collapsed": false
   },
   "outputs": [],
   "source": [
    "if 4 > 3:\n",
    "    print 'Sounds right.'"
   ]
  },
  {
   "cell_type": "markdown",
   "metadata": {},
   "source": [
    "The `elif` and `else` keywords determine what happens if the first statement is not true."
   ]
  },
  {
   "cell_type": "code",
   "execution_count": null,
   "metadata": {
    "collapsed": false
   },
   "outputs": [],
   "source": [
    "x = -2\n",
    "\n",
    "if x > 0:\n",
    "    print \"x is positive\"\n",
    "elif x == 0:\n",
    "    print \"x is zero\"\n",
    "else:\n",
    "    print \"x is negative\""
   ]
  },
  {
   "cell_type": "markdown",
   "metadata": {},
   "source": [
    "* Add a statement at the beginning of this chain of if statements testing if x is the string `\"tuba\"`.\n",
    "\n",
    "The most common loop in Python is the `for` loop, which has a similar syntax.\n",
    "The following loop runs `print x` for every `x` in the list `l`."
   ]
  },
  {
   "cell_type": "code",
   "execution_count": null,
   "metadata": {
    "collapsed": true
   },
   "outputs": [],
   "source": [
    "for x in l:\n",
    "    print x"
   ]
  },
  {
   "cell_type": "markdown",
   "metadata": {},
   "source": [
    "* Change the looping varible from `x` to something else, for example `berry`.\n",
    "* Use the `range` function to make a loop that prints out the first 10 numbers."
   ]
  },
  {
   "cell_type": "markdown",
   "metadata": {},
   "source": [
    "### Dictionaries\n",
    "\n",
    "Dictionaries map \"keys\" to \"values.\"\n",
    "You can initialize them like so:"
   ]
  },
  {
   "cell_type": "code",
   "execution_count": null,
   "metadata": {
    "collapsed": false
   },
   "outputs": [],
   "source": [
    "d = {'tuba': 'Party'}\n",
    "d"
   ]
  },
  {
   "cell_type": "markdown",
   "metadata": {},
   "source": [
    "You can get values out of a dictionary by treating the key like an index:"
   ]
  },
  {
   "cell_type": "code",
   "execution_count": null,
   "metadata": {
    "collapsed": false
   },
   "outputs": [],
   "source": [
    "d['tuba']"
   ]
  },
  {
   "cell_type": "markdown",
   "metadata": {},
   "source": [
    "* What happens if you ask for a key that is not there?\n",
    "\n",
    "You can add a value to a dictionary by assigning using the key as an index:"
   ]
  },
  {
   "cell_type": "code",
   "execution_count": null,
   "metadata": {
    "collapsed": false
   },
   "outputs": [],
   "source": [
    "d['plastic'] = ' skunk'\n",
    "d"
   ]
  },
  {
   "cell_type": "markdown",
   "metadata": {},
   "source": [
    "* Try adding something to your dictionary. \n",
    "* Can you use a non-string type as a key for a dictionary?"
   ]
  },
  {
   "cell_type": "markdown",
   "metadata": {},
   "source": [
    "### Objects\n",
    "\n",
    "Everything in Python is an object.\n",
    "This means that data types, such as strings, have functions associated with them called \"methods\".\n",
    "Given an object `x`, you can call methods using the period syntax. \n",
    "For example, we can get an uppercase version of a string using the `upper` method:"
   ]
  },
  {
   "cell_type": "code",
   "execution_count": null,
   "metadata": {
    "collapsed": false
   },
   "outputs": [],
   "source": [
    "'skunk'.upper()"
   ]
  },
  {
   "cell_type": "code",
   "execution_count": null,
   "metadata": {
    "collapsed": false
   },
   "outputs": [],
   "source": [
    "d.items()"
   ]
  },
  {
   "cell_type": "markdown",
   "metadata": {},
   "source": [
    "In Jupyter, you can see what methods an object has by typing the object name, period, and then pressing tab.\n",
    "\n",
    "* Try it, say doing: `d.<TAB>`"
   ]
  },
  {
   "cell_type": "code",
   "execution_count": null,
   "metadata": {
    "collapsed": false
   },
   "outputs": [],
   "source": []
  },
  {
   "cell_type": "markdown",
   "metadata": {},
   "source": [
    "You can also see documentation about the method by typing the method name, an open parenthesis, and then pressing Shift-Tab.\n",
    "\n",
    "* Try it, say doing: `d.pop(<SHIFT-TAB>`"
   ]
  },
  {
   "cell_type": "code",
   "execution_count": null,
   "metadata": {
    "collapsed": false
   },
   "outputs": [],
   "source": []
  },
  {
   "cell_type": "markdown",
   "metadata": {},
   "source": [
    "Alternatively, you can also call the `help` function:"
   ]
  },
  {
   "cell_type": "code",
   "execution_count": null,
   "metadata": {
    "collapsed": false
   },
   "outputs": [],
   "source": [
    "help(d.pop)"
   ]
  },
  {
   "cell_type": "markdown",
   "metadata": {},
   "source": [
    "### Modules\n",
    "\n",
    "Much of Python's power comes from collections of code called \"modules\".\n",
    "You can import these modules using the `import` statement.\n",
    "From there you call functions in the module with the same period syntax as for objects."
   ]
  },
  {
   "cell_type": "code",
   "execution_count": null,
   "metadata": {
    "collapsed": false
   },
   "outputs": [],
   "source": [
    "import math\n",
    "\n",
    "math.log(10)"
   ]
  },
  {
   "cell_type": "markdown",
   "metadata": {},
   "source": [
    "* Can we call the `log` function without specifying that it is from the `math` module?\n",
    "\n",
    "As before with objects, you can tab-complete, or ask for help:"
   ]
  },
  {
   "cell_type": "code",
   "execution_count": null,
   "metadata": {
    "collapsed": false
   },
   "outputs": [],
   "source": [
    "help(math)"
   ]
  },
  {
   "cell_type": "markdown",
   "metadata": {},
   "source": [
    "The [Python standard library](https://docs.python.org/3.5/library/) is a collection of modules that come with Python. \n",
    "There are also many user-contributed packages, which are indexed on [PyPI](https://pypi.python.org/pypi) which need to be explicitly installed before you can use them."
   ]
  },
  {
   "cell_type": "markdown",
   "metadata": {},
   "source": [
    "* Import the `time` module and print the local time."
   ]
  },
  {
   "cell_type": "markdown",
   "metadata": {},
   "source": [
    "### Comprehensions\n",
    "\n",
    "List and dictionary comprehensions are handy ways to make things."
   ]
  },
  {
   "cell_type": "code",
   "execution_count": null,
   "metadata": {
    "collapsed": false
   },
   "outputs": [],
   "source": [
    "[type(x) for x in l]"
   ]
  },
  {
   "cell_type": "code",
   "execution_count": null,
   "metadata": {
    "collapsed": false
   },
   "outputs": [],
   "source": [
    "[k + d[k] for k in d]"
   ]
  },
  {
   "cell_type": "code",
   "execution_count": null,
   "metadata": {
    "collapsed": false
   },
   "outputs": [],
   "source": [
    "{'fun '+str(k): d[k] for k in d}"
   ]
  },
  {
   "cell_type": "markdown",
   "metadata": {},
   "source": [
    "### Python indexing\n",
    "Let's play with strings to get used to Python's indexing rules."
   ]
  },
  {
   "cell_type": "code",
   "execution_count": null,
   "metadata": {
    "collapsed": false
   },
   "outputs": [],
   "source": [
    "ab = list('abcdefgh')\n",
    "ab"
   ]
  },
  {
   "cell_type": "markdown",
   "metadata": {},
   "source": [
    "* Wait, what just happened when we applied the `list` function to a string?"
   ]
  },
  {
   "cell_type": "code",
   "execution_count": null,
   "metadata": {
    "collapsed": false
   },
   "outputs": [],
   "source": [
    "ab[1:3]"
   ]
  },
  {
   "cell_type": "markdown",
   "metadata": {},
   "source": [
    "* Above: look carefully! `a[3]` is not included.\n",
    "\n",
    "We can also drop an index if we want to go all the way to the beginning of a list."
   ]
  },
  {
   "cell_type": "code",
   "execution_count": null,
   "metadata": {
    "collapsed": false
   },
   "outputs": [],
   "source": [
    "ab[:3]"
   ]
  },
  {
   "cell_type": "markdown",
   "metadata": {},
   "source": [
    "Use negative numbers to index from the right side of the list."
   ]
  },
  {
   "cell_type": "code",
   "execution_count": null,
   "metadata": {
    "collapsed": false
   },
   "outputs": [],
   "source": [
    "ab[-1]"
   ]
  },
  {
   "cell_type": "code",
   "execution_count": null,
   "metadata": {
    "collapsed": false
   },
   "outputs": [],
   "source": [
    "ab[-2:]"
   ]
  },
  {
   "cell_type": "code",
   "execution_count": null,
   "metadata": {
    "collapsed": false
   },
   "outputs": [],
   "source": [
    "ab[:-2]"
   ]
  },
  {
   "cell_type": "code",
   "execution_count": null,
   "metadata": {
    "collapsed": false
   },
   "outputs": [],
   "source": [
    "ab[-4:-2]"
   ]
  },
  {
   "cell_type": "markdown",
   "metadata": {},
   "source": [
    "Indexing works for assignment too."
   ]
  },
  {
   "cell_type": "code",
   "execution_count": null,
   "metadata": {
    "collapsed": false
   },
   "outputs": [],
   "source": [
    "ab[-4:-2] = ['BIG', 'ONE']\n",
    "ab"
   ]
  },
  {
   "cell_type": "markdown",
   "metadata": {},
   "source": [
    "### Unpacking\n",
    "\n",
    "We can assign several variables at once using the entries of lists or tuples."
   ]
  },
  {
   "cell_type": "code",
   "execution_count": null,
   "metadata": {
    "collapsed": false
   },
   "outputs": [],
   "source": [
    "second, third = ab[1:3]\n",
    "third"
   ]
  },
  {
   "cell_type": "markdown",
   "metadata": {},
   "source": [
    "What happens if we try to unpack the wrong number of items?"
   ]
  },
  {
   "cell_type": "markdown",
   "metadata": {},
   "source": [
    "### Strings\n",
    "\n",
    "You may have noticed that there are two kinds of quotes in Python, single and double quotes.\n",
    "They are equivalent, although one protects the other."
   ]
  },
  {
   "cell_type": "code",
   "execution_count": null,
   "metadata": {
    "collapsed": false
   },
   "outputs": [],
   "source": [
    "print 'He said \"wow\".', \"That's kind of strange.\""
   ]
  },
  {
   "cell_type": "markdown",
   "metadata": {},
   "source": [
    "Python has nice [string formatting](https://docs.python.org/2/library/string.html#format-string-syntax)."
   ]
  },
  {
   "cell_type": "code",
   "execution_count": null,
   "metadata": {
    "collapsed": false
   },
   "outputs": [],
   "source": [
    "for letter in ab:\n",
    "    print 'Now {} is my favorite.'.format(letter)"
   ]
  },
  {
   "cell_type": "code",
   "execution_count": null,
   "metadata": {
    "collapsed": false
   },
   "outputs": [],
   "source": [
    "sl = 'This is handy.'.split()\n",
    "sl"
   ]
  },
  {
   "cell_type": "code",
   "execution_count": null,
   "metadata": {
    "collapsed": false
   },
   "outputs": [],
   "source": [
    "' '.join(sl)"
   ]
  },
  {
   "cell_type": "markdown",
   "metadata": {},
   "source": [
    "One can also write multiline strings with triple quotes (using either ' or \")."
   ]
  },
  {
   "cell_type": "code",
   "execution_count": null,
   "metadata": {
    "collapsed": true
   },
   "outputs": [],
   "source": [
    "multiline = '''\n",
    "This is often used\n",
    "for documentation.\n",
    "'''"
   ]
  },
  {
   "cell_type": "markdown",
   "metadata": {},
   "source": [
    "## More advanced topics\n",
    "\n",
    "### Python \"variables\" are better thought of as nametags\n",
    "\n",
    "Python is a little different than other languages concerning how variables work. \n",
    "These differences are wonderfully explained by [this article by David Goodger](http://python.net/~goodger/projects/pycon/2007/idiomatic/handout.html).\n",
    "I've extracted the following snippet because of its importance.\n",
    "\n",
    "\n",
    "In Python, a \"name\" or \"identifier\" is like a parcel tag (or nametag) attached to an object.\n",
    "```\n",
    "a = 1\n",
    "```\n",
    "![](http://python.net/~goodger/projects/pycon/2007/idiomatic/a1tag.png)\n",
    "\n",
    "Here, an integer 1 object has a tag labelled `a`.\n",
    "\n",
    "If we reassign to \"a\", we just move the tag to another object:\n",
    "\n",
    "```\n",
    "a = 2\n",
    "```\n",
    "![](http://python.net/~goodger/projects/pycon/2007/idiomatic/a2tag.png) \n",
    "\n",
    "Now the name `a` is attached to an integer 2 object.\n",
    "The original integer 1 object no longer has a tag `a`. \n",
    "\n",
    "![](http://python.net/~goodger/projects/pycon/2007/idiomatic/1.png)\n",
    "\n",
    "\n",
    "It may live on, but we can't get to it through the name `a`. (When an object has no more references or tags, it is removed from memory.)\n",
    "\n",
    "If we assign one name to another, we're just attaching another nametag to an existing object:\n",
    "\n",
    "```\n",
    "b = a\n",
    "```\n",
    "![](http://python.net/~goodger/projects/pycon/2007/idiomatic/ab2tag.png)\n",
    "The name `b` is just a second tag bound to the same object as `a`.\n",
    "Although we commonly refer to \"variables\" even in Python (because it's common terminology), we really mean \"names\" or \"identifiers\". In Python, \"variables\" are nametags for values, not labelled boxes.\n",
    "\n",
    "Let's see how this works."
   ]
  },
  {
   "cell_type": "code",
   "execution_count": null,
   "metadata": {
    "collapsed": false
   },
   "outputs": [],
   "source": [
    "a = 2\n",
    "b = a\n",
    "b"
   ]
  },
  {
   "cell_type": "markdown",
   "metadata": {},
   "source": [
    "Quiz: what happens now?"
   ]
  },
  {
   "cell_type": "code",
   "execution_count": null,
   "metadata": {
    "collapsed": false
   },
   "outputs": [],
   "source": [
    "a=3\n",
    "b"
   ]
  },
  {
   "cell_type": "markdown",
   "metadata": {},
   "source": [
    "We reassigned the `a` tag, which didn't impact the `b` tag. \n",
    "However, the situation is quite different when the tag is to a structure stored in memory such as a list."
   ]
  },
  {
   "cell_type": "code",
   "execution_count": null,
   "metadata": {
    "collapsed": false
   },
   "outputs": [],
   "source": [
    "a = [7,8,9]\n",
    "b = a\n",
    "b"
   ]
  },
  {
   "cell_type": "markdown",
   "metadata": {},
   "source": [
    "Now when we modify the entries of `b`, we also modify `a`:"
   ]
  },
  {
   "cell_type": "code",
   "execution_count": null,
   "metadata": {
    "collapsed": false
   },
   "outputs": [],
   "source": [
    "b[1] = 'chicken'\n",
    "a"
   ]
  },
  {
   "cell_type": "markdown",
   "metadata": {},
   "source": [
    "### Python is pass by reference"
   ]
  },
  {
   "cell_type": "code",
   "execution_count": null,
   "metadata": {
    "collapsed": false
   },
   "outputs": [],
   "source": [
    "def noodle(l):\n",
    "    l[2] = 'different!'\n",
    "\n",
    "print 'before: ', b\n",
    "noodle(b)\n",
    "b"
   ]
  },
  {
   "cell_type": "markdown",
   "metadata": {},
   "source": [
    "### Generators, iterators, enumerators\n",
    "\n",
    "Generators are ways of expressing \"implicit\" lists but without having to store them in memory.\n",
    "We can make them with syntax similar to list comprensions."
   ]
  },
  {
   "cell_type": "code",
   "execution_count": null,
   "metadata": {
    "collapsed": false
   },
   "outputs": [],
   "source": [
    "it = (square(x) for x in range(500))\n",
    "it"
   ]
  },
  {
   "cell_type": "code",
   "execution_count": null,
   "metadata": {
    "collapsed": false
   },
   "outputs": [],
   "source": [
    "sum(it)"
   ]
  },
  {
   "cell_type": "markdown",
   "metadata": {},
   "source": [
    "*Note:* generators get \"used up\". "
   ]
  },
  {
   "cell_type": "code",
   "execution_count": null,
   "metadata": {
    "collapsed": false
   },
   "outputs": [],
   "source": [
    "sum(it)"
   ]
  },
  {
   "cell_type": "markdown",
   "metadata": {},
   "source": [
    "For this reason it's sometimes useful to turn them into lists."
   ]
  },
  {
   "cell_type": "code",
   "execution_count": null,
   "metadata": {
    "collapsed": false
   },
   "outputs": [],
   "source": [
    "it = (square(x) for x in range(4))\n",
    "list(it)"
   ]
  },
  {
   "cell_type": "markdown",
   "metadata": {},
   "source": [
    "Enumerators are similar."
   ]
  },
  {
   "cell_type": "code",
   "execution_count": null,
   "metadata": {
    "collapsed": false
   },
   "outputs": [],
   "source": [
    "e = enumerate(ab)\n",
    "e"
   ]
  },
  {
   "cell_type": "code",
   "execution_count": null,
   "metadata": {
    "collapsed": false
   },
   "outputs": [],
   "source": [
    "e.next()"
   ]
  },
  {
   "cell_type": "code",
   "execution_count": null,
   "metadata": {
    "collapsed": false
   },
   "outputs": [],
   "source": [
    "list(e)"
   ]
  }
 ],
 "metadata": {
  "kernelspec": {
   "display_name": "Python 2",
   "language": "python",
   "name": "python2"
  },
  "language_info": {
   "codemirror_mode": {
    "name": "ipython",
    "version": 2
   },
   "file_extension": ".py",
   "mimetype": "text/x-python",
   "name": "python",
   "nbconvert_exporter": "python",
   "pygments_lexer": "ipython2",
   "version": "2.7.9"
  }
 },
 "nbformat": 4,
 "nbformat_minor": 0
}
